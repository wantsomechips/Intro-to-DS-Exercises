{
 "cells": [
  {
   "cell_type": "markdown",
   "metadata": {},
   "source": [
    "# Introduction to Data Science 2025\n",
    "\n",
    "# Week 4"
   ]
  },
  {
   "cell_type": "markdown",
   "metadata": {},
   "source": [
    "In this week's exercise, we look at prompting and zero- and few-shot task settings. Below is a text generation example from https://github.com/TurkuNLP/intro-to-nlp/blob/master/text_generation_pipeline_example.ipynb demonstrating how to load a text generation pipeline with a pre-trained model and generate text with a given prompt. Your task is to load a similar pre-trained generative model and assess whether the model succeeds at a set of tasks in zero-shot, one-shot, and two-shot settings.\n",
    "\n",
    "**Note: Downloading and running the pre-trained model locally may take some time. Alternatively, you can open and run this notebook on [Google Colab](https://colab.research.google.com/), as assumed in the following example.**"
   ]
  },
  {
   "cell_type": "markdown",
   "metadata": {
    "id": "tIQ1s96UCcJW"
   },
   "source": [
    "## Text generation example\n",
    "\n",
    "This is a brief example of how to run text generation with a causal language model and `pipeline`.\n",
    "\n",
    "Install [transformers](https://huggingface.co/docs/transformers/index) python package. This will be used to load the model and tokenizer and to run generation."
   ]
  },
  {
   "cell_type": "code",
   "execution_count": null,
   "metadata": {
    "id": "4fUBJmXHCHw-"
   },
   "outputs": [],
   "source": [
    "!pip install --quiet transformers"
   ]
  },
  {
   "cell_type": "markdown",
   "metadata": {
    "id": "5ZRNZgRJCt6Q"
   },
   "source": [
    "Import the `AutoTokenizer`, `AutoModelForCausalLM`, and `pipeline` classes. The first two support loading tokenizers and generative models from the [Hugging Face repository](https://huggingface.co/models), and the last wraps a tokenizer and a model for convenience."
   ]
  },
  {
   "cell_type": "code",
   "execution_count": null,
   "metadata": {
    "id": "jwyK005xCFSF"
   },
   "outputs": [],
   "source": [
    "from transformers import AutoTokenizer, AutoModelForCausalLM, pipeline"
   ]
  },
  {
   "cell_type": "markdown",
   "metadata": {
    "id": "6QJPDe3ZC_sL"
   },
   "source": [
    "Load a generative model and its tokenizer. You can substitute any other generative model name here (e.g. [other TurkuNLP GPT-3 models](https://huggingface.co/models?sort=downloads&search=turkunlp%2Fgpt3)), but note that Colab may have issues running larger models. "
   ]
  },
  {
   "cell_type": "code",
   "execution_count": null,
   "metadata": {
    "id": "wqTxn_QaCNjZ"
   },
   "outputs": [],
   "source": [
    "MODEL_NAME = 'TurkuNLP/gpt3-finnish-large'\n",
    "\n",
    "tokenizer = AutoTokenizer.from_pretrained(MODEL_NAME)\n",
    "model = AutoModelForCausalLM.from_pretrained(MODEL_NAME)"
   ]
  },
  {
   "cell_type": "markdown",
   "metadata": {
    "id": "9ADWWb77e1sY"
   },
   "source": [
    "Instantiate a text generation pipeline using the tokenizer and model."
   ]
  },
  {
   "cell_type": "code",
   "execution_count": null,
   "metadata": {
    "id": "0IIJzNrEe5qx"
   },
   "outputs": [],
   "source": [
    "pipe = pipeline(\n",
    "    'text-generation',\n",
    "    model=model,\n",
    "    tokenizer=tokenizer,\n",
    "    device=model.device\n",
    ")"
   ]
  },
  {
   "cell_type": "markdown",
   "metadata": {
    "id": "eAohNr1ciwaU"
   },
   "source": [
    "We can now call the pipeline with a text prompt; it will take care of tokenizing, encoding, generation, and decoding:"
   ]
  },
  {
   "cell_type": "code",
   "execution_count": null,
   "metadata": {
    "colab": {
     "base_uri": "https://localhost:8080/"
    },
    "id": "jWcOJkiKi5vr",
    "outputId": "11cb09ab-310d-438e-e372-ef8d7f8f66a2"
   },
   "outputs": [],
   "source": [
    "output = pipe('Terve, miten menee?', max_new_tokens=25)\n",
    "\n",
    "print(output)"
   ]
  },
  {
   "cell_type": "markdown",
   "metadata": {
    "id": "SNRMsxXOjSo0"
   },
   "source": [
    "Just print the text"
   ]
  },
  {
   "cell_type": "code",
   "execution_count": null,
   "metadata": {
    "colab": {
     "base_uri": "https://localhost:8080/"
    },
    "id": "9Op7MJ6XjahG",
    "outputId": "5d9e26dd-3e80-4663-a712-d85093fad073"
   },
   "outputs": [],
   "source": [
    "print(output[0]['generated_text'])"
   ]
  },
  {
   "cell_type": "markdown",
   "metadata": {
    "id": "YROp3hyikXPO"
   },
   "source": [
    "We can also call the pipeline with any arguments that the model `generate` function supports. For details on text generation using `transformers`, see e.g. [this tutorial](https://huggingface.co/blog/how-to-generate).\n",
    "\n",
    "Example with sampling and a high `temperature` parameter to generate more chaotic output:"
   ]
  },
  {
   "cell_type": "code",
   "execution_count": null,
   "metadata": {
    "colab": {
     "base_uri": "https://localhost:8080/"
    },
    "id": "22QjXE88jkim",
    "outputId": "372a4fc2-e305-4034-cea3-a52b6103c24f"
   },
   "outputs": [],
   "source": [
    "output = pipe(\n",
    "    'Terve, miten menee?',\n",
    "    do_sample=True,\n",
    "    temperature=10.0,\n",
    "    max_new_tokens=25\n",
    ")\n",
    "\n",
    "print(output[0]['generated_text'])"
   ]
  },
  {
   "cell_type": "markdown",
   "metadata": {},
   "source": [
    "## Exercise 1\n",
    "\n",
    "Your task is to assess whether a generative model succeeds in the following tasks in zero-shot, one-shot, and two-shot settings:\n",
    "\n",
    "- binary sentiment classification (positive / negative)\n",
    "\n",
    "- person name recognition\n",
    "\n",
    "- two-digit addition (e.g. 11 + 22 = 33)\n",
    "\n",
    "For example, for assessing whether a generative model can name capital cities, we could use the following prompts:\n",
    "\n",
    "- zero-shot:\n",
    "\t>\"\"\"\\\n",
    "\t>Identify the capital cities of countries.\n",
    "\t>\n",
    "\t>Question: What is the capital of Finland?\\\n",
    "\t>Answer:\\\n",
    "\t>\"\"\"\n",
    "- one-shot:\n",
    "\t>\"\"\"\\\n",
    "\t>Identify the capital cities of countries.\n",
    "\t>\n",
    "\t>Question: What is the capital of Sweden?\\\n",
    "\t>Answer: Stockholm\n",
    "\t>\n",
    "\t>Question: What is the capital of Finland?\\\n",
    "\t>Answer:\\\n",
    "\t>\"\"\"\n",
    "- two-shot:\n",
    "\t>\"\"\"\\\n",
    "\t>Identify the capital cities of countries.\n",
    "\t>\n",
    "\t>Question: What is the capital of Sweden?\\\n",
    "\t>Answer: Stockholm\n",
    "\t>\n",
    "\t>Question: What is the capital of Denmark?\\\n",
    "\t>Answer: Copenhagen\n",
    "\t>\n",
    "\t>Question: What is the capital of Finland?\\\n",
    "\t>Answer:\\\n",
    "\t>\"\"\"\n",
    "\n",
    "You can do the tasks either in English or Finnish and use a generative model of your choice from the Hugging Face models repository, for example the following models:\n",
    "\n",
    "- English: `gpt2-large`\n",
    "- Finnish: `TurkuNLP/gpt3-finnish-large`\n",
    "\n",
    "You can either come up with your own instructions for the tasks or use the following:\n",
    "\n",
    "- English:\n",
    "\t- binary sentiment classification: \"Do the following texts express a positive or negative sentiment?\"\n",
    "\t- person name recognition: \"List the person names occurring in the following texts.\"\n",
    "\t- two-digit addition: \"This is a first grade math exam.\"\n",
    "- Finnish:\n",
    "\t- binary sentiment classification: \"Ilmaisevatko seuraavat tekstit positiivista vai negatiivista tunnetta?\"\n",
    "\t- person name recognition: \"Listaa seuraavissa teksteissä mainitut henkilönnimet.\"\n",
    "\t- two-digit addition: \"Tämä on ensimmäisen luokan matematiikan koe.\"\n",
    "\n",
    "Come up with at least two test cases for each of the three tasks, and come up with your own one- and two-shot examples."
   ]
  },
  {
   "cell_type": "code",
   "execution_count": null,
   "metadata": {},
   "outputs": [],
   "source": [
    "import os\n",
    "os.environ['TOKENIZERS_PARALLELISM'] = 'false'\n",
    "\n",
    "from transformers import AutoTokenizer, AutoModelForCausalLM, pipeline\n",
    "\n",
    "MODEL_NAME = 'distilgpt2'\n",
    "device = -1\n",
    "\n",
    "tokenizer = AutoTokenizer.from_pretrained(MODEL_NAME)\n",
    "tokenizer.pad_token = tokenizer.eos_token\n",
    "model = AutoModelForCausalLM.from_pretrained(\n",
    "    MODEL_NAME,\n",
    "    low_cpu_mem_usage=True\n",
    ")\n",
    "\n",
    "pipe = pipeline(\n",
    "    'text-generation',\n",
    "    model=model,\n",
    "    tokenizer=tokenizer,\n",
    "    device=device\n",
    ")\n",
    "\n",
    "sentiment_zero_shot = \"\"\"Do the following texts express a positive or negative sentiment?\n",
    "\n",
    "Text: This movie was absolutely amazing! I loved every minute of it.\n",
    "Sentiment:\"\"\"\n",
    "\n",
    "sentiment_one_shot = \"\"\"Do the following texts express a positive or negative sentiment?\n",
    "\n",
    "Text: The service was terrible and the food was cold.\n",
    "Sentiment: negative\n",
    "\n",
    "Text: This movie was absolutely amazing! I loved every minute of it.\n",
    "Sentiment:\"\"\"\n",
    "\n",
    "sentiment_two_shot = \"\"\"Do the following texts express a positive or negative sentiment?\n",
    "\n",
    "Text: The service was terrible and the food was cold.\n",
    "Sentiment: negative\n",
    "\n",
    "Text: I had a wonderful experience at this restaurant.\n",
    "Sentiment: positive\n",
    "\n",
    "Text: This movie was absolutely amazing! I loved every minute of it.\n",
    "Sentiment:\"\"\"\n",
    "\n",
    "print(\"SENTIMENT CLASSIFICATION - Test Case 1\")\n",
    "print(\"=\" * 50)\n",
    "print(\"Zero-shot:\")\n",
    "output = pipe(sentiment_zero_shot, max_new_tokens=5, pad_token_id=tokenizer.eos_token_id)\n",
    "print(output[0]['generated_text'])\n",
    "print(\"\\nOne-shot:\")\n",
    "output = pipe(sentiment_one_shot, max_new_tokens=5, pad_token_id=tokenizer.eos_token_id)\n",
    "print(output[0]['generated_text'])\n",
    "print(\"\\nTwo-shot:\")\n",
    "output = pipe(sentiment_two_shot, max_new_tokens=5, pad_token_id=tokenizer.eos_token_id)\n",
    "print(output[0]['generated_text'])\n",
    "\n",
    "sentiment_zero_shot_2 = \"\"\"Do the following texts express a positive or negative sentiment?\n",
    "\n",
    "Text: The product broke after just one day of use. Complete waste of money.\n",
    "Sentiment:\"\"\"\n",
    "\n",
    "sentiment_one_shot_2 = \"\"\"Do the following texts express a positive or negative sentiment?\n",
    "\n",
    "Text: The service was terrible and the food was cold.\n",
    "Sentiment: negative\n",
    "\n",
    "Text: The product broke after just one day of use. Complete waste of money.\n",
    "Sentiment:\"\"\"\n",
    "\n",
    "sentiment_two_shot_2 = \"\"\"Do the following texts express a positive or negative sentiment?\n",
    "\n",
    "Text: The service was terrible and the food was cold.\n",
    "Sentiment: negative\n",
    "\n",
    "Text: I had a wonderful experience at this restaurant.\n",
    "Sentiment: positive\n",
    "\n",
    "Text: The product broke after just one day of use. Complete waste of money.\n",
    "Sentiment:\"\"\"\n",
    "\n",
    "print(\"\\n\\nSENTIMENT CLASSIFICATION - Test Case 2\")\n",
    "print(\"=\" * 50)\n",
    "print(\"Zero-shot:\")\n",
    "output = pipe(sentiment_zero_shot_2, max_new_tokens=5, pad_token_id=tokenizer.eos_token_id)\n",
    "print(output[0]['generated_text'])\n",
    "print(\"\\nOne-shot:\")\n",
    "output = pipe(sentiment_one_shot_2, max_new_tokens=5, pad_token_id=tokenizer.eos_token_id)\n",
    "print(output[0]['generated_text'])\n",
    "print(\"\\nTwo-shot:\")\n",
    "output = pipe(sentiment_two_shot_2, max_new_tokens=5, pad_token_id=tokenizer.eos_token_id)\n",
    "print(output[0]['generated_text'])\n",
    "\n",
    "name_zero_shot = \"\"\"List the person names occurring in the following texts.\n",
    "\n",
    "Text: John Smith and Mary Johnson attended the conference in New York.\n",
    "Names:\"\"\"\n",
    "\n",
    "name_one_shot = \"\"\"List the person names occurring in the following texts.\n",
    "\n",
    "Text: Alice Cooper met with Bob Dylan at the music festival.\n",
    "Names: Alice Cooper, Bob Dylan\n",
    "\n",
    "Text: John Smith and Mary Johnson attended the conference in New York.\n",
    "Names:\"\"\"\n",
    "\n",
    "name_two_shot = \"\"\"List the person names occurring in the following texts.\n",
    "\n",
    "Text: Alice Cooper met with Bob Dylan at the music festival.\n",
    "Names: Alice Cooper, Bob Dylan\n",
    "\n",
    "Text: Sarah Williams gave a presentation to Michael Brown.\n",
    "Names: Sarah Williams, Michael Brown\n",
    "\n",
    "Text: John Smith and Mary Johnson attended the conference in New York.\n",
    "Names:\"\"\"\n",
    "\n",
    "print(\"\\n\\nPERSON NAME RECOGNITION - Test Case 1\")\n",
    "print(\"=\" * 50)\n",
    "print(\"Zero-shot:\")\n",
    "output = pipe(name_zero_shot, max_new_tokens=15, pad_token_id=tokenizer.eos_token_id)\n",
    "print(output[0]['generated_text'])\n",
    "print(\"\\nOne-shot:\")\n",
    "output = pipe(name_one_shot, max_new_tokens=15, pad_token_id=tokenizer.eos_token_id)\n",
    "print(output[0]['generated_text'])\n",
    "print(\"\\nTwo-shot:\")\n",
    "output = pipe(name_two_shot, max_new_tokens=15, pad_token_id=tokenizer.eos_token_id)\n",
    "print(output[0]['generated_text'])\n",
    "\n",
    "name_zero_shot_2 = \"\"\"List the person names occurring in the following texts.\n",
    "\n",
    "Text: David Lee and Jennifer Chen discussed the project with Robert Taylor.\n",
    "Names:\"\"\"\n",
    "\n",
    "name_one_shot_2 = \"\"\"List the person names occurring in the following texts.\n",
    "\n",
    "Text: Alice Cooper met with Bob Dylan at the music festival.\n",
    "Names: Alice Cooper, Bob Dylan\n",
    "\n",
    "Text: David Lee and Jennifer Chen discussed the project with Robert Taylor.\n",
    "Names:\"\"\"\n",
    "\n",
    "name_two_shot_2 = \"\"\"List the person names occurring in the following texts.\n",
    "\n",
    "Text: Alice Cooper met with Bob Dylan at the music festival.\n",
    "Names: Alice Cooper, Bob Dylan\n",
    "\n",
    "Text: Sarah Williams gave a presentation to Michael Brown.\n",
    "Names: Sarah Williams, Michael Brown\n",
    "\n",
    "Text: David Lee and Jennifer Chen discussed the project with Robert Taylor.\n",
    "Names:\"\"\"\n",
    "\n",
    "print(\"\\n\\nPERSON NAME RECOGNITION - Test Case 2\")\n",
    "print(\"=\" * 50)\n",
    "print(\"Zero-shot:\")\n",
    "output = pipe(name_zero_shot_2, max_new_tokens=20, pad_token_id=tokenizer.eos_token_id)\n",
    "print(output[0]['generated_text'])\n",
    "print(\"\\nOne-shot:\")\n",
    "output = pipe(name_one_shot_2, max_new_tokens=20, pad_token_id=tokenizer.eos_token_id)\n",
    "print(output[0]['generated_text'])\n",
    "print(\"\\nTwo-shot:\")\n",
    "output = pipe(name_two_shot_2, max_new_tokens=20, pad_token_id=tokenizer.eos_token_id)\n",
    "print(output[0]['generated_text'])\n",
    "\n",
    "math_zero_shot = \"\"\"This is a first grade math exam.\n",
    "\n",
    "Question: 23 + 45 = ?\n",
    "Answer:\"\"\"\n",
    "\n",
    "math_one_shot = \"\"\"This is a first grade math exam.\n",
    "\n",
    "Question: 12 + 34 = ?\n",
    "Answer: 46\n",
    "\n",
    "Question: 23 + 45 = ?\n",
    "Answer:\"\"\"\n",
    "\n",
    "math_two_shot = \"\"\"This is a first grade math exam.\n",
    "\n",
    "Question: 12 + 34 = ?\n",
    "Answer: 46\n",
    "\n",
    "Question: 51 + 27 = ?\n",
    "Answer: 78\n",
    "\n",
    "Question: 23 + 45 = ?\n",
    "Answer:\"\"\"\n",
    "\n",
    "print(\"\\n\\nTWO-DIGIT ADDITION - Test Case 1\")\n",
    "print(\"=\" * 50)\n",
    "print(\"Zero-shot:\")\n",
    "output = pipe(math_zero_shot, max_new_tokens=5, pad_token_id=tokenizer.eos_token_id)\n",
    "print(output[0]['generated_text'])\n",
    "print(\"\\nOne-shot:\")\n",
    "output = pipe(math_one_shot, max_new_tokens=5, pad_token_id=tokenizer.eos_token_id)\n",
    "print(output[0]['generated_text'])\n",
    "print(\"\\nTwo-shot:\")\n",
    "output = pipe(math_two_shot, max_new_tokens=5, pad_token_id=tokenizer.eos_token_id)\n",
    "print(output[0]['generated_text'])\n",
    "\n",
    "math_zero_shot_2 = \"\"\"This is a first grade math exam.\n",
    "\n",
    "Question: 36 + 58 = ?\n",
    "Answer:\"\"\"\n",
    "\n",
    "math_one_shot_2 = \"\"\"This is a first grade math exam.\n",
    "\n",
    "Question: 12 + 34 = ?\n",
    "Answer: 46\n",
    "\n",
    "Question: 36 + 58 = ?\n",
    "Answer:\"\"\"\n",
    "\n",
    "math_two_shot_2 = \"\"\"This is a first grade math exam.\n",
    "\n",
    "Question: 12 + 34 = ?\n",
    "Answer: 46\n",
    "\n",
    "Question: 51 + 27 = ?\n",
    "Answer: 78\n",
    "\n",
    "Question: 36 + 58 = ?\n",
    "Answer:\"\"\"\n",
    "\n",
    "print(\"\\n\\nTWO-DIGIT ADDITION - Test Case 2\")\n",
    "print(\"=\" * 50)\n",
    "print(\"Zero-shot:\")\n",
    "output = pipe(math_zero_shot_2, max_new_tokens=5, pad_token_id=tokenizer.eos_token_id)\n",
    "print(output[0]['generated_text'])\n",
    "print(\"\\nOne-shot:\")\n",
    "output = pipe(math_one_shot_2, max_new_tokens=5, pad_token_id=tokenizer.eos_token_id)\n",
    "print(output[0]['generated_text'])\n",
    "print(\"\\nTwo-shot:\")\n",
    "output = pipe(math_two_shot_2, max_new_tokens=5, pad_token_id=tokenizer.eos_token_id)\n",
    "print(output[0]['generated_text'])"
   ]
  },
  {
   "cell_type": "markdown",
   "metadata": {},
   "source": [
    "**Submit this exercise by submitting your code and your answers to the above questions as comments on the MOOC platform. You can return this Jupyter notebook (.ipynb) or .py, .R, etc depending on your programming preferences.**"
   ]
  }
 ],
 "metadata": {
  "colab": {
   "authorship_tag": "ABX9TyMPTKW2dgboQJpXpHYIBCHp",
   "include_colab_link": true,
   "provenance": []
  },
  "kernelspec": {
   "display_name": "Python 3 (ipykernel)",
   "language": "python",
   "name": "python3"
  },
  "language_info": {
   "codemirror_mode": {
    "name": "ipython",
    "version": 3
   },
   "file_extension": ".py",
   "mimetype": "text/x-python",
   "name": "python",
   "nbconvert_exporter": "python",
   "pygments_lexer": "ipython3",
   "version": "3.13.3"
  }
 },
 "nbformat": 4,
 "nbformat_minor": 4
}
